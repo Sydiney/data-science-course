{
 "cells": [
  {
   "cell_type": "markdown",
   "metadata": {},
   "source": [
    "<center>\n",
    "    <img src=\"https://cf-courses-data.s3.us.cloud-object-storage.appdomain.cloud/IBMDeveloperSkillsNetwork-DS0105EN-SkillsNetwork/labs/Module2/images/SN_web_lightmode.png\" width=\"300\" alt=\"cognitiveclass.ai logo\">\n",
    "</center>\n"
   ]
  },
  {
   "cell_type": "markdown",
   "metadata": {},
   "source": [
    "#### Add your code below following the instructions given in the course\n"
   ]
  },
  {
   "cell_type": "markdown",
   "metadata": {},
   "source": [
    "# My Data Science Final Project"
   ]
  },
  {
   "cell_type": "markdown",
   "metadata": {},
   "source": [
    "# Introduction\n",
    "This notebook is part of the final project of the IBM Data Science course. In it, I will cover basic concepts about languages, libraries and tools used in the area."
   ]
  },
  {
   "cell_type": "markdown",
   "metadata": {},
   "source": [
    "# Programming Languages\n",
    "The main languages ​​used in data science are:\n",
    "-Python\n",
    "-R\n",
    "- SQL\n",
    "- Julia\n",
    "- Scala"
   ]
  },
  {
   "cell_type": "markdown",
   "metadata": {},
   "source": [
    "# Popular Libraries\n",
    "Some widely used libraries in Data Science include:\n",
    "- NumPy\n",
    "- Pandas\n",
    "- Matplotlib\n",
    "-Seaborn\n",
    "- Scikit-learn"
   ]
  },
  {
   "cell_type": "markdown",
   "metadata": {},
   "source": [
    "# Data Science Tools\n",
    "| Tool | Purpose |\n",
    "|-------------------|------------|\n",
    "| Jupyter Notebook | Interactive environment |\n",
    "| Apache Spark | Distributed processing |\n",
    "| TensorFlow | Machine Learning |\n",
    "| Tableau | Data Visualization |\n",
    "| Power BI | Business Intelligence |"
   ]
  },
  {
   "cell_type": "markdown",
   "metadata": {},
   "source": [
    "# Mathematical Expressions\n",
    "Examples of basic mathematical operations:\n",
    "- Sum: 3 + 5 = 8\n",
    "- Subtraction: 10 - 4 = 6\n",
    "- Multiplication: 2 * 6 = 12\n",
    "- Division: 16 / 4 = 4"
   ]
  },
  {
   "cell_type": "code",
   "execution_count": 15,
   "metadata": {},
   "outputs": [
    {
     "name": "stdout",
     "output_type": "stream",
     "text": [
      "7\n",
      "The result is: 20\n"
     ]
    }
   ],
   "source": [
    "# Simple Calculation\n",
    "Sum = 5+2\n",
    "print(Sum)\n",
    "# Multiplication and addition\n",
    "result = (5 * 2) + 10\n",
    "print(\"The result is:\", result)\n"
   ]
  },
  {
   "cell_type": "code",
   "execution_count": 18,
   "metadata": {},
   "outputs": [
    {
     "name": "stdout",
     "output_type": "stream",
     "text": [
      "120 minutes equal 2.0 hours\n"
     ]
    }
   ],
   "source": [
    "# Convert minutes to hours\n",
    "minutes = 120\n",
    "hours = minutes / 60\n",
    "print(minutes, \"minutes equal\", hours, \"hours\")\n"
   ]
  },
  {
   "cell_type": "markdown",
   "metadata": {},
   "source": [
    "# Notebook Objectives\n",
    "- Introduce programming languages ​​used in data science\n",
    "- Demonstrate popular libraries\n",
    "- Show useful tools for data analysis\n",
    "- Perform basic mathematical operations\n",
    "- Create code examples"
   ]
  },
  {
   "cell_type": "markdown",
   "metadata": {},
   "source": [
    "# Author\n",
    "**Author Name:** Sydiney Sudário"
   ]
  },
  {
   "cell_type": "code",
   "execution_count": null,
   "metadata": {},
   "outputs": [],
   "source": []
  },
  {
   "cell_type": "code",
   "execution_count": null,
   "metadata": {},
   "outputs": [],
   "source": []
  }
 ],
 "metadata": {
  "kernelspec": {
   "display_name": "Python 3 (ipykernel)",
   "language": "python",
   "name": "python3"
  },
  "language_info": {
   "codemirror_mode": {
    "name": "ipython",
    "version": 3
   },
   "file_extension": ".py",
   "mimetype": "text/x-python",
   "name": "python",
   "nbconvert_exporter": "python",
   "pygments_lexer": "ipython3",
   "version": "3.12.8"
  }
 },
 "nbformat": 4,
 "nbformat_minor": 4
}
